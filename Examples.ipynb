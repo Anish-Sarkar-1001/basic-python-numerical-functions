{
 "cells": [
  {
   "cell_type": "code",
   "execution_count": 2,
   "metadata": {},
   "outputs": [],
   "source": [
    "import numerics as nm"
   ]
  },
  {
   "cell_type": "code",
   "execution_count": 3,
   "metadata": {},
   "outputs": [
    {
     "data": {
      "text/plain": [
       "array([-857.85 ,   58.996])"
      ]
     },
     "execution_count": 3,
     "metadata": {},
     "output_type": "execute_result"
    }
   ],
   "source": [
    "t = [0, 10, 20, 30, 35, 40]\n",
    "v = [0, 95.05, 322.07, 912.03, 1227.05, 1615.37]\n",
    "\n",
    "nm.poly_interpolation(t, v, 25, 1) # Interpolating at 25 with polynomial of degree 1 (linear)"
   ]
  },
  {
   "cell_type": "code",
   "execution_count": 4,
   "metadata": {},
   "outputs": [
    {
     "data": {
      "text/plain": [
       "array([-6.9753e+02,  4.5636e+01,  2.6720e-01])"
      ]
     },
     "execution_count": 4,
     "metadata": {},
     "output_type": "execute_result"
    }
   ],
   "source": [
    "nm.poly_interpolation(t, v, 25, 2) #Quadratic interpolaation"
   ]
  },
  {
   "cell_type": "code",
   "execution_count": 5,
   "metadata": {},
   "outputs": [
    {
     "data": {
      "text/plain": [
       "array([-1.95627e+03,  1.86495e+02, -4.82770e+00,  5.99400e-02])"
      ]
     },
     "execution_count": 5,
     "metadata": {},
     "output_type": "execute_result"
    }
   ],
   "source": [
    "nm.poly_interpolation(t, v, 25, 3) #Cubic interpolation"
   ]
  },
  {
   "cell_type": "code",
   "execution_count": 6,
   "metadata": {},
   "outputs": [
    {
     "data": {
      "text/plain": [
       "array([[    0.   ,     9.505],\n",
       "       [ -131.97 ,    22.702],\n",
       "       [ -857.85 ,    58.996],\n",
       "       [ -978.09 ,    63.004],\n",
       "       [-1491.19 ,    77.664]])"
      ]
     },
     "execution_count": 6,
     "metadata": {},
     "output_type": "execute_result"
    }
   ],
   "source": [
    "nm.linear_spline_interpolation(t, v, 25) # Linear spline interpolation; Gives coefficients of all the splines"
   ]
  },
  {
   "cell_type": "code",
   "execution_count": 7,
   "metadata": {},
   "outputs": [
    {
     "data": {
      "text/plain": [
       "array([[ 1.13686838e-15,  9.50500000e+00,  0.00000000e+00],\n",
       "       [ 1.31970000e+00, -1.68890000e+01,  1.31970000e+02],\n",
       "       [ 2.30970000e+00, -5.64890000e+01,  5.27970000e+02],\n",
       "       [-3.81780000e+00,  3.11161000e+02, -4.98678000e+03],\n",
       "       [ 6.74980000e+00, -4.28571000e+02,  7.95853000e+03]])"
      ]
     },
     "execution_count": 7,
     "metadata": {},
     "output_type": "execute_result"
    }
   ],
   "source": [
    "nm.quadratic_spline_interpolation(t, v, 25) #Quadratic spline interpolationl; Gives coefficients of all the splines"
   ]
  },
  {
   "cell_type": "code",
   "execution_count": 8,
   "metadata": {},
   "outputs": [
    {
     "data": {
      "text/plain": [
       "617.05"
      ]
     },
     "execution_count": 8,
     "metadata": {},
     "output_type": "execute_result"
    }
   ],
   "source": [
    "nm.nddp(t, v, 25, 1) #Linear nddp interpolation at t = 25"
   ]
  },
  {
   "cell_type": "code",
   "execution_count": 9,
   "metadata": {},
   "outputs": [
    {
     "data": {
      "text/plain": [
       "610.37"
      ]
     },
     "execution_count": 9,
     "metadata": {},
     "output_type": "execute_result"
    }
   ],
   "source": [
    "nm.nddp(t, v, 25, 2) #Quadratic nddp interpolation at t = 25"
   ]
  },
  {
   "cell_type": "code",
   "execution_count": 10,
   "metadata": {},
   "outputs": [
    {
     "data": {
      "text/plain": [
       "625.355"
      ]
     },
     "execution_count": 10,
     "metadata": {},
     "output_type": "execute_result"
    }
   ],
   "source": [
    "nm.nddp(t, v, 25, 3) #Cubic nddp interpolation at t = 25"
   ]
  },
  {
   "cell_type": "code",
   "execution_count": 11,
   "metadata": {},
   "outputs": [
    {
     "data": {
      "text/plain": [
       "array([1.    , 1.5   , 2.25  , 3.375 , 5.0625])"
      ]
     },
     "execution_count": 11,
     "metadata": {},
     "output_type": "execute_result"
    }
   ],
   "source": [
    "def func(x, y):\n",
    "    return y\n",
    "\n",
    "nm.euler_first(func, 0.5, 2, 1, 0) #First order euler solver with 05 step size; x_stop=2, y(0)=1, x_start=0"
   ]
  },
  {
   "cell_type": "code",
   "execution_count": 12,
   "metadata": {},
   "outputs": [
    {
     "data": {
      "text/plain": [
       "array([1.        , 1.625     , 2.640625  , 4.29101562, 6.97290039])"
      ]
     },
     "execution_count": 12,
     "metadata": {},
     "output_type": "execute_result"
    }
   ],
   "source": [
    "nm.rk_2(func, 0.5, 2, 1, 0, method='heun')#RK 2 integration using 0.5 step size from 0 to 2 with y(0) = 1\n",
    "#Using Heun method. Default is heun method"
   ]
  },
  {
   "cell_type": "code",
   "execution_count": 13,
   "metadata": {},
   "outputs": [
    {
     "data": {
      "text/plain": [
       "array([1.        , 1.625     , 2.640625  , 4.29101562, 6.97290039])"
      ]
     },
     "execution_count": 13,
     "metadata": {},
     "output_type": "execute_result"
    }
   ],
   "source": [
    "nm.rk_2(func, 0.5, 2, 1, 0, method='midpoint')#RK 2 integration using 0.5 step size from 0 to 2 with y(0) = 1\n",
    "#Using midpoint method"
   ]
  },
  {
   "cell_type": "code",
   "execution_count": 14,
   "metadata": {},
   "outputs": [
    {
     "data": {
      "text/plain": [
       "array([1.        , 1.625     , 2.640625  , 4.29101562, 6.97290039])"
      ]
     },
     "execution_count": 14,
     "metadata": {},
     "output_type": "execute_result"
    }
   ],
   "source": [
    "nm.rk_2(func, 0.5, 2, 1, 0, method='ralston') #RK 2 integration using 0.5 step size from 0 to 2 with y(0) = 1\n",
    "# Using ralston method"
   ]
  },
  {
   "cell_type": "code",
   "execution_count": 15,
   "metadata": {},
   "outputs": [
    {
     "data": {
      "text/plain": [
       "array([1.        , 1.6484375 , 2.71734619, 4.47937536, 7.38397032])"
      ]
     },
     "execution_count": 15,
     "metadata": {},
     "output_type": "execute_result"
    }
   ],
   "source": [
    "nm.rk_4(func, 0.5, 2, 1, 0) #RK 4 integration using 0.5 step size from 0 to 2 with y(0) = 1"
   ]
  },
  {
   "cell_type": "code",
   "execution_count": 16,
   "metadata": {},
   "outputs": [
    {
     "data": {
      "text/plain": [
       "array([3., 2.])"
      ]
     },
     "execution_count": 16,
     "metadata": {},
     "output_type": "execute_result"
    }
   ],
   "source": [
    "x = [2, 4, 6, 8, 10]\n",
    "y = [7, 11, 15, 19, 23]\n",
    "nm.poly_regression(x, y, 1) #Polynomial regression using polynomial of degree 1 (Linear)\n",
    "# Returns coefficients of linear polynomial"
   ]
  },
  {
   "cell_type": "code",
   "execution_count": 17,
   "metadata": {},
   "outputs": [
    {
     "data": {
      "text/plain": [
       "array([2., 3., 4.])"
      ]
     },
     "execution_count": 17,
     "metadata": {},
     "output_type": "execute_result"
    }
   ],
   "source": [
    "x = [1, 2, 3, 4, 5]\n",
    "y = [9, 24, 47, 78, 117]\n",
    "nm.poly_regression(x, y, 2) #Quadratic regression\n",
    "# Returns coefficients of quadratic polynomial"
   ]
  },
  {
   "cell_type": "code",
   "execution_count": 18,
   "metadata": {},
   "outputs": [
    {
     "data": {
      "text/plain": [
       "(0.20001214955547886, 4.999921092489269)"
      ]
     },
     "execution_count": 18,
     "metadata": {},
     "output_type": "execute_result"
    }
   ],
   "source": [
    "x = [0.2, 0.4, 0.6, 0.8, 1]\n",
    "y = [0.5437, 1.4778, 4.0171, 10.9196, 29.6826]\n",
    "nm.exp_regression(x, y) #exponential regreesion\n",
    "#Returns coeffieients of exponential function"
   ]
  },
  {
   "cell_type": "code",
   "execution_count": 19,
   "metadata": {},
   "outputs": [
    {
     "data": {
      "text/plain": [
       "(0.4999999999999998, 1.9999999999999996)"
      ]
     },
     "execution_count": 19,
     "metadata": {},
     "output_type": "execute_result"
    }
   ],
   "source": [
    "x = [0.2, 0.4, 0.6, 0.8, 1]\n",
    "y = [0.02, 0.08, 0.18, 0.32, 0.5]\n",
    "nm.pow_regression(x, y) #powerlaw regression\n",
    "#Returns power law coefficients (Typo in Sir's note as they are given ulta)"
   ]
  },
  {
   "cell_type": "code",
   "execution_count": 20,
   "metadata": {},
   "outputs": [
    {
     "data": {
      "text/plain": [
       "(2.0800838470458984, 3.1144795542559223e-07, 18)"
      ]
     },
     "execution_count": 20,
     "metadata": {},
     "output_type": "execute_result"
    }
   ],
   "source": [
    "def func(x):\n",
    "    return x*x*x-9\n",
    "nm.bisection(func, 2, 3, 1.e-6, 1.e-2) \n",
    "# Uses bisection method for root finding\n",
    "#Interval starts at 2 and ends at 3\n",
    "#Tollerance in x interval 10^(-6)\n",
    "#Tollerance in y interval 10^(-2)\n",
    "#Lower tollerance value taken\n",
    "#Returns x value, y value near 0 and number of itterations required"
   ]
  },
  {
   "cell_type": "code",
   "execution_count": 21,
   "metadata": {},
   "outputs": [
    {
     "data": {
      "text/plain": [
       "(2.0800838230519054, 1.7763568394002505e-14, 5)"
      ]
     },
     "execution_count": 21,
     "metadata": {},
     "output_type": "execute_result"
    }
   ],
   "source": [
    "def dfunc(x):\n",
    "    return 3*x*x\n",
    "nm.newton_raphson(func, dfunc, 3, 1.e-6, 1.e-6)\n",
    "#Takes extra argumets of derivative and guess value of 3"
   ]
  },
  {
   "cell_type": "code",
   "execution_count": 22,
   "metadata": {},
   "outputs": [
    {
     "data": {
      "text/plain": [
       "(2.0800838230519845, 1.042721464727947e-12, 7)"
      ]
     },
     "execution_count": 22,
     "metadata": {},
     "output_type": "execute_result"
    }
   ],
   "source": [
    "nm.secant(func, 4, 3, 1.e-6, 1.e-6)\n",
    "#Takes first guess as 4 and 2nd guess as 3"
   ]
  },
  {
   "cell_type": "code",
   "execution_count": 23,
   "metadata": {},
   "outputs": [
    {
     "data": {
      "text/plain": [
       "0.6160621391947412"
      ]
     },
     "execution_count": 23,
     "metadata": {},
     "output_type": "execute_result"
    }
   ],
   "source": [
    "import numpy as np\n",
    "def func(x):\n",
    "    return x*np.exp(-x)\n",
    "nm.trapezoidal(func, 2, 0.25, 2.5)\n",
    "# Trapezoidal rule of integration using 3 intervals from 0.25 to 2.5"
   ]
  },
  {
   "cell_type": "code",
   "execution_count": 24,
   "metadata": {},
   "outputs": [
    {
     "data": {
      "text/plain": [
       "0.6851050681107044"
      ]
     },
     "execution_count": 24,
     "metadata": {},
     "output_type": "execute_result"
    }
   ],
   "source": [
    "nm.simpsons1_3(func, 4, 0.25, 2.5)\n",
    "#Simpsons 1/3 rule using 4 segments (minimum 2 segments reuired)"
   ]
  },
  {
   "cell_type": "code",
   "execution_count": 25,
   "metadata": {},
   "outputs": [
    {
     "data": {
      "text/plain": [
       "0.6794618115815894"
      ]
     },
     "execution_count": 25,
     "metadata": {},
     "output_type": "execute_result"
    }
   ],
   "source": [
    "\n",
    "nm.simpsons3_8(func, 3, 0.25, 2.5)\n",
    "#Simpson's 3/8 rule using 3 segments (Minimum 3 seegments required)"
   ]
  }
 ],
 "metadata": {
  "kernelspec": {
   "display_name": ".venv",
   "language": "python",
   "name": "python3"
  },
  "language_info": {
   "codemirror_mode": {
    "name": "ipython",
    "version": 3
   },
   "file_extension": ".py",
   "mimetype": "text/x-python",
   "name": "python",
   "nbconvert_exporter": "python",
   "pygments_lexer": "ipython3",
   "version": "3.12.3"
  }
 },
 "nbformat": 4,
 "nbformat_minor": 2
}
